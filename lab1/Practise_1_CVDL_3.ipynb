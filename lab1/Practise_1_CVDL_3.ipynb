{
  "cells": [
    {
      "cell_type": "markdown",
      "metadata": {
        "id": "FHO16qjxAbdg"
      },
      "source": [
        "# Лабораторна робота №1\n",
        "## Класифікація зображень за допомогою PyTorch\n",
        "\n",
        "**Мета роботи: Навчитись тренувати базову нейронну мережу для класифікації зображень.**\n",
        "\n",
        "**Вимоги:**\n",
        "\n",
        "1.   Встановлені Python та бібліотеки PyTorch, torchvision, matplotlib.\n",
        "2.   Завантажений набір даних CIFAR-10."
      ]
    },
    {
      "cell_type": "markdown",
      "metadata": {
        "id": "dHpzXBOvAgc9"
      },
      "source": [
        "## Завдання до лабораторної роботи (частина І): Робота з даними (CIFAR-10)\n",
        "\n",
        "1.   Імпортуйте необхідні бібліотеки:"
      ]
    },
    {
      "cell_type": "code",
      "execution_count": 108,
      "metadata": {
        "colab": {
          "base_uri": "https://localhost:8080/"
        },
        "id": "WA2XQ3xzQJZ8",
        "outputId": "0d8f5ab1-f651-4cd6-fe9e-1d65a62eab39"
      },
      "outputs": [
        {
          "name": "stdout",
          "output_type": "stream",
          "text": [
            "Using device: cuda\n"
          ]
        }
      ],
      "source": [
        "import matplotlib.pyplot as plt\n",
        "import numpy as np\n",
        "import torch\n",
        "import torchvision\n",
        "import torchvision.transforms as transforms\n",
        "import torch.nn as nn\n",
        "import torch.nn.functional as F\n",
        "from sklearn.metrics import classification_report\n",
        "from torch.utils.data import DataLoader, Subset, random_split\n",
        "from torchvision.utils import make_grid\n",
        "\n",
        "torch.manual_seed(42)\n",
        "\n",
        "device = torch.device(\"cuda\" if torch.cuda.is_available() else \"cpu\")\n",
        "print(\"Using device:\", device)"
      ]
    },
    {
      "cell_type": "code",
      "execution_count": 109,
      "metadata": {
        "id": "cIAZGWAQQJZ9"
      },
      "outputs": [],
      "source": [
        "TRAIN_DIR = 'data/train'\n",
        "TEST_DIR = 'data/test'"
      ]
    },
    {
      "cell_type": "markdown",
      "metadata": {
        "id": "ePoWHLPOQJZ9"
      },
      "source": [
        "2.   Завантаження даних. Напишіть функцію, яка завантажує набір даних CIFAR-10.\n",
        "3.   Перевірка наявності даних. Напишіть код, який перевіряє, чи дані завантажені та розпаковані успішно. Виведіть повідомлення про статус завантаження.\n",
        "4.   Підготовка даних. Напишіть код, щоб імплементувати трансформації для зображень:\n",
        "*    перетворення в тензори;\n",
        "*    денормалізація (при необхідності).  "
      ]
    },
    {
      "cell_type": "code",
      "execution_count": 110,
      "metadata": {
        "id": "QBfFaLRqQJZ9"
      },
      "outputs": [],
      "source": [
        "transform_train_data = transforms.Compose([\n",
        "    transforms.ToTensor(),\n",
        "    transforms.Normalize((0.5, 0.5, 0.5), (0.5, 0.5, 0.5))\n",
        "])\n",
        "\n",
        "transform_test_data = transforms.Compose([\n",
        "    transforms.ToTensor(),\n",
        "    transforms.Normalize((0.5, 0.5, 0.5), (0.5, 0.5, 0.5))\n",
        "])"
      ]
    },
    {
      "cell_type": "code",
      "execution_count": 111,
      "metadata": {
        "colab": {
          "base_uri": "https://localhost:8080/"
        },
        "id": "jo9Mr3rBQJZ-",
        "outputId": "ce8dee75-2023-4dbd-c4aa-05401d4c12d6"
      },
      "outputs": [
        {
          "name": "stdout",
          "output_type": "stream",
          "text": [
            "Files already downloaded and verified\n",
            "Files already downloaded and verified\n"
          ]
        }
      ],
      "source": [
        "data_full = torchvision.datasets.CIFAR10(root=TRAIN_DIR, train=True, transform=transform_train_data, download=True)\n",
        "data_test = torchvision.datasets.CIFAR10(root=TEST_DIR, train=False, transform=transform_test_data, download=True)"
      ]
    },
    {
      "cell_type": "code",
      "execution_count": 112,
      "metadata": {
        "id": "P1fa0k4M8nQM"
      },
      "outputs": [],
      "source": [
        "train_size = int(0.8 * len(data_full))\n",
        "val_size = len(data_full) - train_size\n",
        "\n",
        "data_train, data_val = random_split(data_full, [train_size, val_size])"
      ]
    },
    {
      "cell_type": "code",
      "execution_count": 113,
      "metadata": {
        "colab": {
          "base_uri": "https://localhost:8080/"
        },
        "id": "gHhMiX00QJZ-",
        "outputId": "f619410f-9921-4cff-f90f-7c91bdbcd00f"
      },
      "outputs": [
        {
          "name": "stdout",
          "output_type": "stream",
          "text": [
            "Amount of pictures in train: 40000\n",
            "Amount of pictures in validation: 10000\n",
            "Amount of pictures in test: 10000\n"
          ]
        }
      ],
      "source": [
        "print(f\"Amount of pictures in train: {len(data_train)}\")\n",
        "print(f\"Amount of pictures in validation: {len(data_val)}\")\n",
        "print(f\"Amount of pictures in test: {len(data_test)}\")"
      ]
    },
    {
      "cell_type": "markdown",
      "metadata": {
        "id": "J1HHHe0hQJZ-"
      },
      "source": [
        "Використайте `torchvision.transforms` для підготовки даних.\n",
        "\n",
        "5.   Створення DataLoader. Створіть DataLoader для навчального та тестового наборів даних, щоб спростити процес завантаження даних за батчами.\n",
        "6.   Візуалізація прикладів:\n",
        "*   напишіть функцію для візуалізації деяких зображень з набору даних;\n",
        "*   відобразіть кілька зображень з їхніми реальними мітками."
      ]
    },
    {
      "cell_type": "code",
      "execution_count": 114,
      "metadata": {
        "id": "OuhMmabkQJZ-"
      },
      "outputs": [],
      "source": [
        "train_loader = DataLoader(data_train, batch_size=32, shuffle=True, num_workers=8)\n",
        "validation_loader = DataLoader(data_val, batch_size=32, shuffle=False, num_workers=8)\n",
        "test_loader = DataLoader(data_test, batch_size=32, shuffle=False, num_workers=8)\n",
        "\n",
        "classes = ('plane', 'car', 'bird', 'cat',\n",
        "           'deer', 'dog', 'frog', 'horse', 'ship', 'truck')"
      ]
    },
    {
      "cell_type": "code",
      "execution_count": 115,
      "metadata": {
        "colab": {
          "base_uri": "https://localhost:8080/"
        },
        "id": "nZz8cG19QJZ-",
        "outputId": "ba2235b4-062b-45b6-bec5-802b0af4131c"
      },
      "outputs": [
        {
          "name": "stdout",
          "output_type": "stream",
          "text": [
            "Feature batch shape: torch.Size([32, 3, 32, 32])\n",
            "Labels batch shape: torch.Size([32])\n"
          ]
        }
      ],
      "source": [
        "train_images, train_labels = next(iter(train_loader))\n",
        "print(f\"Feature batch shape: {train_images.size()}\")\n",
        "print(f\"Labels batch shape: {train_labels.size()}\")\n"
      ]
    },
    {
      "cell_type": "code",
      "execution_count": 116,
      "metadata": {
        "colab": {
          "base_uri": "https://localhost:8080/",
          "height": 167
        },
        "id": "tUfgwISaQJZ-",
        "outputId": "1447dda4-02da-4af0-d119-857b3f924c0a"
      },
      "outputs": [
        {
          "data": {
            "image/png": "[encoded data removed]",
            "text/plain": [
              "<Figure size 640x480 with 4 Axes>"
            ]
          },
          "metadata": {},
          "output_type": "display_data"
        }
      ],
      "source": [
        "random_images_indices = np.random.choice(len(train_images), 4, replace=False)\n",
        "\n",
        "for i in range(4):\n",
        "    plt.subplot(1, 4, i + 1)\n",
        "    img = train_images[i] / 2 + 0.5\n",
        "    npimg = img.numpy()\n",
        "    plt.imshow(np.transpose(npimg, (1, 2, 0)))\n",
        "    plt.title(f\"Real: {classes[train_labels[i]]}\")\n",
        "    plt.axis(\"off\")\n",
        "\n",
        "plt.show()"
      ]
    },
    {
      "cell_type": "markdown",
      "metadata": {
        "id": "sCH4Z1r7QJZ_"
      },
      "source": [
        "7.   Ваші висновки до частини І."
      ]
    },
    {
      "cell_type": "markdown",
      "metadata": {
        "id": "n6nR81H8QJZ_"
      },
      "source": [
        "### Висновки до частини I\n",
        "\n",
        "Було імлплементовано трансформації з перетворенням зоображень на тензори та нормалізації, потім за допомогою пакетів pytorch було викачано датасет CIRAF10. Також було створено Dataloader класи для контролю над батачами які потім будуть використовуватися для тренування. Поки число батчів було обране мною з голови, так само з Data Augmentation."
      ]
    },
    {
      "cell_type": "markdown",
      "metadata": {
        "id": "W83BA4_9QJZ_"
      },
      "source": [
        "## Завдання до лабораторної роботи (частина ІІ):\n",
        "0. Розділіть набір даних на навчальний і тестовий.\n",
        "1. Визначення структури CNN.\n",
        "    - Створіть клас для цільної нейронної мережі, яка буде містити мінімум два повнозв'язних шари."
      ]
    },
    {
      "cell_type": "code",
      "execution_count": 117,
      "metadata": {
        "colab": {
          "base_uri": "https://localhost:8080/"
        },
        "id": "xLVLTuyKQJZ_",
        "outputId": "dff5b77c-94e6-4acf-981b-7f11abdf087b"
      },
      "outputs": [
        {
          "data": {
            "text/plain": [
              "CustomCNN(\n",
              "  (conv1): Conv2d(3, 6, kernel_size=(5, 5), stride=(1, 1))\n",
              "  (pool): MaxPool2d(kernel_size=2, stride=2, padding=0, dilation=1, ceil_mode=False)\n",
              "  (conv2): Conv2d(6, 16, kernel_size=(5, 5), stride=(1, 1))\n",
              "  (fc1): Linear(in_features=400, out_features=120, bias=True)\n",
              "  (fc2): Linear(in_features=120, out_features=84, bias=True)\n",
              "  (fc3): Linear(in_features=84, out_features=10, bias=True)\n",
              ")"
            ]
          },
          "execution_count": 117,
          "metadata": {},
          "output_type": "execute_result"
        }
      ],
      "source": [
        "class CustomCNN(nn.Module):\n",
        "    def __init__(self):\n",
        "        super().__init__()\n",
        "        self.conv1 = nn.Conv2d(3, 6, 5)\n",
        "        self.pool = nn.MaxPool2d(2, 2)\n",
        "        self.conv2 = nn.Conv2d(6, 16, 5)\n",
        "        self.fc1 = nn.Linear(16 * 5 * 5, 120)\n",
        "        self.fc2 = nn.Linear(120, 84)\n",
        "        self.fc3 = nn.Linear(84, 10)\n",
        "\n",
        "    def forward(self, x: torch.Tensor):\n",
        "        x = self.pool(F.relu(self.conv1(x)))\n",
        "        x = self.pool(F.relu(self.conv2(x)))\n",
        "        x = torch.flatten(x, 1)\n",
        "        x = F.relu(self.fc1(x))\n",
        "        x = F.relu(self.fc2(x))\n",
        "        x = self.fc3(x)\n",
        "        return x\n",
        "\n",
        "model = CustomCNN()\n",
        "\n",
        "model.to(device)"
      ]
    },
    {
      "cell_type": "markdown",
      "metadata": {
        "id": "f700i3NmQJZ_"
      },
      "source": [
        "2. Вибір функції втрати та оптимізатора:\n",
        "    - визначте функцію втрат (наприклад, CrossEntropyLoss) та оптимізатор (наприклад, SGD або Adam)."
      ]
    },
    {
      "cell_type": "code",
      "execution_count": 118,
      "metadata": {
        "id": "GLPPLlqnQJZ_"
      },
      "outputs": [],
      "source": [
        "import torch.optim as optim\n",
        "\n",
        "criterion = nn.CrossEntropyLoss()\n",
        "optimizer = optim.Adam(model.parameters(), lr=0.001, betas=(0.9, 0.999), eps=1e-08, weight_decay=1e-4)"
      ]
    },
    {
      "cell_type": "markdown",
      "metadata": {
        "id": "1b-H6jOHQJZ_"
      },
      "source": [
        "3. Тренування моделі.\n",
        "    - Реалізуйте цикл навчання, де:\n",
        "        - модель тренується на навчальному наборі даних;\n",
        "        - виводиться значення функції втрат та точність (на навчальній та валідаційній множинах) після кожної епохи."
      ]
    },
    {
      "cell_type": "code",
      "execution_count": 119,
      "metadata": {
        "colab": {
          "base_uri": "https://localhost:8080/"
        },
        "id": "J6yapc3YQJZ_",
        "outputId": "f3fb3003-2b02-4f46-c32b-d855b5998420"
      },
      "outputs": [
        {
          "name": "stdout",
          "output_type": "stream",
          "text": [
            "Epoch 1/10 - Train Loss: 1.6755, Train Acc: 38.75% | Val Loss: 1.5104, Test Acc: 45.43%, Prec: 0.47, Rec: 0.45, F1: 0.45\n",
            "Epoch 2/10 - Train Loss: 1.4157, Train Acc: 48.75% | Val Loss: 1.3346, Test Acc: 52.07%, Prec: 0.52, Rec: 0.52, F1: 0.51\n",
            "Epoch 3/10 - Train Loss: 1.2808, Train Acc: 53.90% | Val Loss: 1.2557, Test Acc: 55.15%, Prec: 0.55, Rec: 0.55, F1: 0.54\n",
            "Epoch 4/10 - Train Loss: 1.1847, Train Acc: 58.02% | Val Loss: 1.2170, Test Acc: 56.59%, Prec: 0.59, Rec: 0.57, F1: 0.56\n",
            "Epoch 5/10 - Train Loss: 1.1096, Train Acc: 60.59% | Val Loss: 1.1504, Test Acc: 59.54%, Prec: 0.60, Rec: 0.59, F1: 0.59\n",
            "Epoch 6/10 - Train Loss: 1.0472, Train Acc: 63.01% | Val Loss: 1.1494, Test Acc: 59.11%, Prec: 0.60, Rec: 0.59, F1: 0.59\n",
            "Epoch 7/10 - Train Loss: 0.9975, Train Acc: 64.63% | Val Loss: 1.1634, Test Acc: 58.89%, Prec: 0.61, Rec: 0.59, F1: 0.59\n",
            "Epoch 8/10 - Train Loss: 0.9549, Train Acc: 66.06% | Val Loss: 1.1419, Test Acc: 60.57%, Prec: 0.61, Rec: 0.60, F1: 0.60\n",
            "Epoch 9/10 - Train Loss: 0.9161, Train Acc: 67.43% | Val Loss: 1.0996, Test Acc: 61.88%, Prec: 0.62, Rec: 0.62, F1: 0.62\n",
            "Epoch 10/10 - Train Loss: 0.8789, Train Acc: 68.79% | Val Loss: 1.1314, Test Acc: 60.55%, Prec: 0.62, Rec: 0.60, F1: 0.60\n"
          ]
        }
      ],
      "source": [
        "from sklearn.metrics import accuracy_score, precision_score, recall_score, f1_score\n",
        "\n",
        "history = {\n",
        "    'epoch': [],\n",
        "    'train_loss': [],\n",
        "    'val_loss': [],\n",
        "    'train_accuracy': [],\n",
        "    'val_accuracy': [],\n",
        "}\n",
        "num_epochs = 10\n",
        "\n",
        "for epoch in range(num_epochs):\n",
        "    model.train()\n",
        "    running_loss = 0.0\n",
        "    train_labels = []\n",
        "    train_preds = []\n",
        "\n",
        "    for i, data in enumerate(train_loader, 0):\n",
        "        inputs, labels = data\n",
        "\n",
        "        inputs = inputs.to(device)\n",
        "        labels = labels.to(device)\n",
        "\n",
        "        optimizer.zero_grad()\n",
        "\n",
        "        outputs = model(inputs)\n",
        "        loss = criterion(outputs, labels)\n",
        "        loss.backward()\n",
        "        optimizer.step()\n",
        "\n",
        "        running_loss += loss.item()\n",
        "\n",
        "        _, predicted = torch.max(outputs.data, 1)\n",
        "\n",
        "        train_labels.extend(labels.cpu().numpy())\n",
        "        train_preds.extend(predicted.cpu().numpy())\n",
        "\n",
        "    train_loss = running_loss / len(train_loader)\n",
        "    train_accuracy = accuracy_score(train_labels, train_preds) * 100\n",
        "\n",
        "    model.eval()\n",
        "    val_loss = 0.0\n",
        "    all_labels = []\n",
        "    all_preds = []\n",
        "\n",
        "    with torch.no_grad():\n",
        "        for inputs, labels in validation_loader:\n",
        "            inputs = inputs.to(device)\n",
        "            labels = labels.to(device)\n",
        "\n",
        "            outputs = model(inputs)\n",
        "            loss = criterion(outputs, labels)\n",
        "            val_loss += loss.item()\n",
        "\n",
        "            _, predicted = torch.max(outputs.data, 1)\n",
        "\n",
        "            all_labels.extend(labels.cpu().numpy())\n",
        "            all_preds.extend(predicted.cpu().numpy())\n",
        "\n",
        "    val_loss = val_loss / len(test_loader)\n",
        "\n",
        "    val_accuracy = accuracy_score(all_labels, all_preds) * 100\n",
        "    prec = precision_score(all_labels, all_preds, average='macro')\n",
        "    rec = recall_score(all_labels, all_preds, average='macro')\n",
        "    f1 = f1_score(all_labels, all_preds, average='macro')\n",
        "\n",
        "    history['epoch'].append(epoch)\n",
        "    history['train_loss'].append(train_loss)\n",
        "    history['val_loss'].append(val_loss)\n",
        "    history['train_accuracy'].append(train_accuracy)\n",
        "    history['val_accuracy'].append(val_accuracy)\n",
        "\n",
        "    print(f\"Epoch {epoch+1}/{num_epochs} - \"\n",
        "          f\"Train Loss: {train_loss:.4f}, Train Acc: {train_accuracy:.2f}% | \"\n",
        "          f\"Val Loss: {val_loss:.4f}, Test Acc: {val_accuracy:.2f}%, \"\n",
        "          f\"Prec: {prec:.2f}, Rec: {rec:.2f}, F1: {f1:.2f}\")"
      ]
    },
    {
      "cell_type": "markdown",
      "metadata": {
        "id": "QO2g6cc9QJaA"
      },
      "source": [
        "4. Оцінка моделі:\n",
        "    - визначте точність моделі на тестовому наборі даних;\n",
        "    - виведіть детальні статистики (загальна точність та точність для кожного класу)."
      ]
    },
    {
      "cell_type": "code",
      "execution_count": 120,
      "metadata": {
        "colab": {
          "base_uri": "https://localhost:8080/"
        },
        "id": "5KhCCzeuQJaA",
        "outputId": "0162cf48-7cf7-4784-d39c-3c0a085f4938"
      },
      "outputs": [
        {
          "name": "stdout",
          "output_type": "stream",
          "text": [
            "Загальна точність моделі на тестовому наборі: 0.61\n",
            "Детальна статистика по класах:\n",
            "               precision    recall  f1-score   support\n",
            "\n",
            "       plane       0.65      0.66      0.66      1000\n",
            "         car       0.71      0.77      0.74      1000\n",
            "        bird       0.40      0.65      0.50      1000\n",
            "         cat       0.43      0.42      0.42      1000\n",
            "        deer       0.58      0.46      0.51      1000\n",
            "         dog       0.59      0.39      0.47      1000\n",
            "        frog       0.66      0.70      0.68      1000\n",
            "       horse       0.66      0.68      0.67      1000\n",
            "        ship       0.77      0.71      0.74      1000\n",
            "       truck       0.74      0.63      0.68      1000\n",
            "\n",
            "    accuracy                           0.61     10000\n",
            "   macro avg       0.62      0.61      0.61     10000\n",
            "weighted avg       0.62      0.61      0.61     10000\n",
            "\n"
          ]
        }
      ],
      "source": [
        "model.eval()\n",
        "all_labels = []\n",
        "all_preds = []\n",
        "\n",
        "with torch.no_grad():\n",
        "    for inputs, labels in test_loader:\n",
        "        inputs = inputs.to(device)\n",
        "        labels = labels.to(device)\n",
        "\n",
        "        outputs = model(inputs)\n",
        "        _, predicted = torch.max(outputs.data, 1)\n",
        "        all_labels.extend(labels.cpu().numpy())\n",
        "        all_preds.extend(predicted.cpu().numpy())\n",
        "\n",
        "\n",
        "overall_accuracy = accuracy_score(all_labels, all_preds)\n",
        "print(f\"Загальна точність моделі на тестовому наборі: {overall_accuracy:.2f}\")\n",
        "\n",
        "report = classification_report(all_labels, all_preds, target_names=classes)\n",
        "print(\"Детальна статистика по класах:\\n\", report)"
      ]
    },
    {
      "cell_type": "markdown",
      "metadata": {
        "id": "4aUBF_1VQJaA"
      },
      "source": [
        "5. Візуалізація результатів:\n",
        "    - візуалізуйте кілька випадкових передбачених зображень разом з їхніми реальними мітками та передбаченнями;\n",
        "    - побудуйте графік точності та втрат для навчального набору даних на кожній епосі."
      ]
    },
    {
      "cell_type": "code",
      "execution_count": 121,
      "metadata": {
        "id": "wn3a7ISQQJaA"
      },
      "outputs": [],
      "source": [
        "test_images, test_labels = next(iter(test_loader))"
      ]
    },
    {
      "cell_type": "code",
      "execution_count": 122,
      "metadata": {
        "colab": {
          "base_uri": "https://localhost:8080/",
          "height": 187
        },
        "id": "apgE5P0PQJaA",
        "outputId": "9e780e55-a0d9-4530-bf29-8ed1c8bd053e"
      },
      "outputs": [
        {
          "data": {
            "image/png": "[encoded data removed]",
            "text/plain": [
              "<Figure size 640x480 with 4 Axes>"
            ]
          },
          "metadata": {},
          "output_type": "display_data"
        }
      ],
      "source": [
        "test_random_indices = np.random.choice(len(test_images), 4, replace=False)\n",
        "\n",
        "model.eval()\n",
        "with torch.no_grad():\n",
        "    for inputs, labels in test_loader:\n",
        "        inputs = inputs.to(device)\n",
        "        labels = labels.to(device)\n",
        "\n",
        "        outputs = model(inputs)\n",
        "        _, predicted = torch.max(outputs.data, 1)\n",
        "        predicted_labels = predicted.cpu().numpy()\n",
        "\n",
        "for i in range(4):\n",
        "    plt.subplot(1, 4, i + 1)\n",
        "    img = test_images[i] / 2 + 0.5\n",
        "    npimg = img.numpy()\n",
        "    plt.imshow(np.transpose(npimg, (1, 2, 0)))\n",
        "    plt.title(f\"Real: {classes[test_labels[i]]}\\nPred: {classes[predicted_labels[i]]}\")\n",
        "    plt.axis(\"off\")\n",
        "\n",
        "plt.show()"
      ]
    },
    {
      "cell_type": "code",
      "execution_count": 123,
      "metadata": {
        "colab": {
          "base_uri": "https://localhost:8080/",
          "height": 564
        },
        "id": "-CTplz1WQJaA",
        "outputId": "c4fee5de-e631-4bad-c3ca-385f2fdbe2fc"
      },
      "outputs": [
        {
          "data": {
            "image/png": "[encoded data removed]",
            "text/plain": [
              "<Figure size 800x600 with 1 Axes>"
            ]
          },
          "metadata": {},
          "output_type": "display_data"
        }
      ],
      "source": [
        "plt.figure(figsize=(8, 6))\n",
        "plt.plot(history['epoch'], history['train_loss'], label='Train Loss')\n",
        "plt.plot(history['epoch'], history['val_loss'], label='Validation Loss')\n",
        "plt.xlabel('Epoch')\n",
        "plt.ylabel('Loss')\n",
        "plt.title('Training and Validation Loss per Epoch')\n",
        "plt.legend()\n",
        "plt.grid(True)\n",
        "plt.show()"
      ]
    },
    {
      "cell_type": "code",
      "execution_count": 124,
      "metadata": {
        "colab": {
          "base_uri": "https://localhost:8080/",
          "height": 564
        },
        "id": "04Xg1kRw-AKc",
        "outputId": "c058baea-818b-4e08-c38a-1fd21a30cd9b"
      },
      "outputs": [
        {
          "data": {
            "image/png": "[encoded data removed]",
            "text/plain": [
              "<Figure size 800x600 with 1 Axes>"
            ]
          },
          "metadata": {},
          "output_type": "display_data"
        }
      ],
      "source": [
        "plt.figure(figsize=(8, 6))\n",
        "plt.plot(history['epoch'], history['train_accuracy'], label='Train Accuracy')\n",
        "plt.plot(history['epoch'], history['val_accuracy'], label='Validation Accuracy')\n",
        "plt.xlabel('Epoch')\n",
        "plt.ylabel('Accuracy')\n",
        "plt.title('Training and Validation Accuracy per Epoch')\n",
        "plt.legend()\n",
        "plt.grid(True)\n",
        "plt.show()"
      ]
    },
    {
      "cell_type": "code",
      "execution_count": 124,
      "metadata": {
        "id": "e2NMPJnp-AC4"
      },
      "outputs": [],
      "source": []
    },
    {
      "cell_type": "markdown",
      "metadata": {
        "id": "cwHLlRq1Br1l"
      },
      "source": [
        "## Додаткові завдання (за бажанням):\n",
        "\n",
        "- Дослідіть, як зміна параметрів підготовки даних (наприклад, різні трансформації) впливає на результати моделі.\n",
        "- Спробуйте змінити архітектуру моделі (додати додаткові шари) та проаналізуйте, як це впливає на результати.\n",
        "- Включіть регуляризацію (наприклад, Dropout) для покращення загальної точності.\n"
      ]
    },
    {
      "cell_type": "code",
      "execution_count": 151,
      "metadata": {
        "colab": {
          "base_uri": "https://localhost:8080/"
        },
        "id": "_ucXlxpGPDzG",
        "outputId": "339d2bae-ffdc-4f55-af33-5d5aa699cb43"
      },
      "outputs": [
        {
          "name": "stdout",
          "output_type": "stream",
          "text": [
            "Files already downloaded and verified\n",
            "Files already downloaded and verified\n"
          ]
        }
      ],
      "source": [
        "augmenation_transform_train_data = transforms.Compose([\n",
        "    transforms.ColorJitter(brightness=0.2, contrast=0.2, saturation=0.2, hue=0.1),\n",
        "    transforms.RandomHorizontalFlip(),\n",
        "    transforms.RandomRotation(20),\n",
        "    transforms.ToTensor(),\n",
        "    transforms.Normalize((0.5, 0.5, 0.5), (0.5, 0.5, 0.5))\n",
        "])\n",
        "\n",
        "transform_test_val_data = transforms.Compose([\n",
        "    transforms.ToTensor(),\n",
        "    transforms.Normalize((0.5, 0.5, 0.5), (0.5, 0.5, 0.5))\n",
        "])\n",
        "\n",
        "full_train_set = torchvision.datasets.CIFAR10(\n",
        "    root='./data', train=True, download=True, transform=augmenation_transform_train_data\n",
        ")\n",
        "\n",
        "full_val_set = torchvision.datasets.CIFAR10(\n",
        "    root='./data', train=True, download=False, transform=transform_test_val_data\n",
        ")\n",
        "\n",
        "train_size = int(0.8 * len(full_train_set))\n",
        "val_size = len(full_train_set) - train_size\n",
        "\n",
        "indices = torch.randperm(len(full_train_set))\n",
        "train_indices = indices[:train_size]\n",
        "val_indices = indices[train_size:]\n",
        "\n",
        "train_set = Subset(full_train_set, train_indices)\n",
        "val_set = Subset(full_val_set, val_indices)\n",
        "\n",
        "test_set = torchvision.datasets.CIFAR10(\n",
        "    root='./data', train=False, download=True, transform=transform_test_val_data\n",
        ")\n",
        "\n",
        "train_loader = DataLoader(train_set, batch_size=32, shuffle=True, num_workers=8)\n",
        "val_loader = DataLoader(val_set, batch_size=32, shuffle=False, num_workers=8)\n",
        "test_loader = DataLoader(test_set, batch_size=32, shuffle=False, num_workers=8)"
      ]
    },
    {
      "cell_type": "code",
      "execution_count": 152,
      "metadata": {
        "id": "W3AuzWaNQiFa"
      },
      "outputs": [],
      "source": [
        "train_images, train_labels = next(iter(train_loader))"
      ]
    },
    {
      "cell_type": "code",
      "execution_count": 153,
      "metadata": {
        "colab": {
          "base_uri": "https://localhost:8080/",
          "height": 167
        },
        "id": "l_kzLXIrQfhD",
        "outputId": "92d98ebe-0c34-41d4-ce55-9f7c3ee7112f"
      },
      "outputs": [
        {
          "data": {
            "image/png": "[encoded data removed]",
            "text/plain": [
              "<Figure size 640x480 with 4 Axes>"
            ]
          },
          "metadata": {},
          "output_type": "display_data"
        }
      ],
      "source": [
        "random_images_indices = np.random.choice(len(train_images), 4, replace=False)\n",
        "\n",
        "for i in range(4):\n",
        "    plt.subplot(1, 4, i + 1)\n",
        "    img = train_images[i] / 2 + 0.5\n",
        "    npimg = img.numpy()\n",
        "    plt.imshow(np.transpose(npimg, (1, 2, 0)))\n",
        "    plt.title(f\"Real: {classes[train_labels[i]]}\")\n",
        "    plt.axis(\"off\")\n",
        "\n",
        "plt.show()"
      ]
    },
    {
      "cell_type": "code",
      "execution_count": 154,
      "metadata": {
        "colab": {
          "base_uri": "https://localhost:8080/"
        },
        "id": "wcsnC_LBBMnM",
        "outputId": "c6674589-5009-464d-d32c-ef55e7305709"
      },
      "outputs": [
        {
          "data": {
            "text/plain": [
              "CustomCNN(\n",
              "  (conv1): Conv2d(3, 6, kernel_size=(5, 5), stride=(1, 1))\n",
              "  (pool): MaxPool2d(kernel_size=2, stride=2, padding=0, dilation=1, ceil_mode=False)\n",
              "  (conv2): Conv2d(6, 16, kernel_size=(5, 5), stride=(1, 1))\n",
              "  (fc1): Linear(in_features=400, out_features=120, bias=True)\n",
              "  (fc2): Linear(in_features=120, out_features=84, bias=True)\n",
              "  (fc3): Linear(in_features=84, out_features=10, bias=True)\n",
              ")"
            ]
          },
          "execution_count": 154,
          "metadata": {},
          "output_type": "execute_result"
        }
      ],
      "source": [
        "model_v2 = CustomCNN()\n",
        "model_v2.to(device)"
      ]
    },
    {
      "cell_type": "code",
      "execution_count": 155,
      "metadata": {
        "id": "UkxmBa2nTh1B"
      },
      "outputs": [],
      "source": [
        "criterion = nn.CrossEntropyLoss()\n",
        "optimizer = optim.Adam(model_v2.parameters(), lr=0.001, betas=(0.9, 0.999), eps=1e-08, weight_decay=1e-4)"
      ]
    },
    {
      "cell_type": "code",
      "execution_count": 156,
      "metadata": {
        "colab": {
          "base_uri": "https://localhost:8080/"
        },
        "id": "N6z7fYYIBDja",
        "outputId": "a3c0a173-c10a-4d80-b6b7-618789986be0"
      },
      "outputs": [
        {
          "name": "stdout",
          "output_type": "stream",
          "text": [
            "Epoch 1/10 - Train Loss: 1.7208, Train Acc: 36.94% | Val Loss: 1.4424, Test Acc: 47.32%, Prec: 0.46, Rec: 0.47, F1: 0.45\n",
            "Epoch 2/10 - Train Loss: 1.4682, Train Acc: 47.34% | Val Loss: 1.3088, Test Acc: 52.91%, Prec: 0.52, Rec: 0.53, F1: 0.52\n",
            "Epoch 3/10 - Train Loss: 1.3622, Train Acc: 51.33% | Val Loss: 1.2421, Test Acc: 55.11%, Prec: 0.56, Rec: 0.55, F1: 0.54\n",
            "Epoch 4/10 - Train Loss: 1.3067, Train Acc: 53.45% | Val Loss: 1.1711, Test Acc: 58.95%, Prec: 0.59, Rec: 0.59, F1: 0.58\n",
            "Epoch 5/10 - Train Loss: 1.2551, Train Acc: 54.95% | Val Loss: 1.1049, Test Acc: 60.70%, Prec: 0.61, Rec: 0.61, F1: 0.60\n",
            "Epoch 6/10 - Train Loss: 1.2181, Train Acc: 56.73% | Val Loss: 1.0865, Test Acc: 61.36%, Prec: 0.61, Rec: 0.61, F1: 0.61\n",
            "Epoch 7/10 - Train Loss: 1.1854, Train Acc: 58.15% | Val Loss: 1.0643, Test Acc: 62.25%, Prec: 0.63, Rec: 0.62, F1: 0.62\n",
            "Epoch 8/10 - Train Loss: 1.1673, Train Acc: 58.75% | Val Loss: 1.0290, Test Acc: 62.63%, Prec: 0.63, Rec: 0.62, F1: 0.62\n",
            "Epoch 9/10 - Train Loss: 1.1459, Train Acc: 59.55% | Val Loss: 1.0133, Test Acc: 63.98%, Prec: 0.64, Rec: 0.64, F1: 0.64\n",
            "Epoch 10/10 - Train Loss: 1.1285, Train Acc: 60.24% | Val Loss: 0.9915, Test Acc: 64.75%, Prec: 0.65, Rec: 0.65, F1: 0.64\n"
          ]
        }
      ],
      "source": [
        "from sklearn.metrics import accuracy_score, precision_score, recall_score, f1_score\n",
        "\n",
        "history = {\n",
        "    'epoch': [],\n",
        "    'train_loss': [],\n",
        "    'val_loss': [],\n",
        "    'train_accuracy': [],\n",
        "    'val_accuracy': [],\n",
        "}\n",
        "num_epochs = 10\n",
        "\n",
        "for epoch in range(num_epochs):\n",
        "    model_v2.train()\n",
        "    running_loss = 0.0\n",
        "    train_labels = []\n",
        "    train_preds = []\n",
        "\n",
        "    for i, data in enumerate(train_loader, 0):\n",
        "        inputs, labels = data\n",
        "\n",
        "        inputs = inputs.to(device)\n",
        "        labels = labels.to(device)\n",
        "\n",
        "        optimizer.zero_grad()\n",
        "\n",
        "        outputs = model_v2(inputs)\n",
        "        loss = criterion(outputs, labels)\n",
        "        loss.backward()\n",
        "        optimizer.step()\n",
        "\n",
        "        running_loss += loss.item()\n",
        "\n",
        "        _, predicted = torch.max(outputs.data, 1)\n",
        "\n",
        "        train_labels.extend(labels.cpu().numpy())\n",
        "        train_preds.extend(predicted.cpu().numpy())\n",
        "\n",
        "    train_loss = running_loss / len(train_loader)\n",
        "    train_accuracy = accuracy_score(train_labels, train_preds) * 100\n",
        "\n",
        "    model_v2.eval()\n",
        "    val_loss = 0.0\n",
        "    all_labels = []\n",
        "    all_preds = []\n",
        "\n",
        "    with torch.no_grad():\n",
        "        for inputs, labels in validation_loader:\n",
        "            inputs = inputs.to(device)\n",
        "            labels = labels.to(device)\n",
        "\n",
        "            outputs = model_v2(inputs)\n",
        "            loss = criterion(outputs, labels)\n",
        "            val_loss += loss.item()\n",
        "\n",
        "            _, predicted = torch.max(outputs.data, 1)\n",
        "\n",
        "            all_labels.extend(labels.cpu().numpy())\n",
        "            all_preds.extend(predicted.cpu().numpy())\n",
        "\n",
        "    val_loss = val_loss / len(test_loader)\n",
        "\n",
        "    val_accuracy = accuracy_score(all_labels, all_preds) * 100\n",
        "    prec = precision_score(all_labels, all_preds, average='macro')\n",
        "    rec = recall_score(all_labels, all_preds, average='macro')\n",
        "    f1 = f1_score(all_labels, all_preds, average='macro')\n",
        "\n",
        "    history['epoch'].append(epoch)\n",
        "    history['train_loss'].append(train_loss)\n",
        "    history['val_loss'].append(val_loss)\n",
        "    history['train_accuracy'].append(train_accuracy)\n",
        "    history['val_accuracy'].append(val_accuracy)\n",
        "\n",
        "    print(f\"Epoch {epoch+1}/{num_epochs} - \"\n",
        "          f\"Train Loss: {train_loss:.4f}, Train Acc: {train_accuracy:.2f}% | \"\n",
        "          f\"Val Loss: {val_loss:.4f}, Test Acc: {val_accuracy:.2f}%, \"\n",
        "          f\"Prec: {prec:.2f}, Rec: {rec:.2f}, F1: {f1:.2f}\")"
      ]
    },
    {
      "cell_type": "code",
      "execution_count": 171,
      "metadata": {
        "colab": {
          "base_uri": "https://localhost:8080/"
        },
        "id": "b_8QNRPhbmtd",
        "outputId": "2fd48bd5-5b04-434f-df62-4c8a7e2f8e36"
      },
      "outputs": [
        {
          "name": "stdout",
          "output_type": "stream",
          "text": [
            "Загальна точність моделі на тестовому наборі: 0.63\n",
            "Детальна статистика по класах:\n",
            "               precision    recall  f1-score   support\n",
            "\n",
            "       plane       0.62      0.75      0.68      1000\n",
            "         car       0.71      0.82      0.76      1000\n",
            "        bird       0.54      0.49      0.51      1000\n",
            "         cat       0.45      0.36      0.40      1000\n",
            "        deer       0.54      0.58      0.56      1000\n",
            "         dog       0.50      0.58      0.54      1000\n",
            "        frog       0.64      0.75      0.69      1000\n",
            "       horse       0.79      0.57      0.66      1000\n",
            "        ship       0.77      0.73      0.75      1000\n",
            "       truck       0.73      0.64      0.68      1000\n",
            "\n",
            "    accuracy                           0.63     10000\n",
            "   macro avg       0.63      0.63      0.62     10000\n",
            "weighted avg       0.63      0.63      0.62     10000\n",
            "\n"
          ]
        }
      ],
      "source": [
        "model_v2.eval()\n",
        "all_labels = []\n",
        "all_preds = []\n",
        "\n",
        "with torch.no_grad():\n",
        "    for inputs, labels in test_loader:\n",
        "        inputs = inputs.to(device)\n",
        "        labels = labels.to(device)\n",
        "\n",
        "        outputs = model_v2(inputs)\n",
        "        _, predicted = torch.max(outputs.data, 1)\n",
        "        all_labels.extend(labels.cpu().numpy())\n",
        "        all_preds.extend(predicted.cpu().numpy())\n",
        "\n",
        "\n",
        "overall_accuracy = accuracy_score(all_labels, all_preds)\n",
        "print(f\"Загальна точність моделі на тестовому наборі: {overall_accuracy:.2f}\")\n",
        "\n",
        "report = classification_report(all_labels, all_preds, target_names=classes)\n",
        "print(\"Детальна статистика по класах:\\n\", report)"
      ]
    },
    {
      "cell_type": "markdown",
      "metadata": {
        "id": "k6Pu9JdkBEgt"
      },
      "source": [
        "З додаванням аугменатації точність валідаційного сету збільшилася на 2-3%"
      ]
    },
    {
      "cell_type": "code",
      "execution_count": 168,
      "metadata": {
        "colab": {
          "base_uri": "https://localhost:8080/"
        },
        "id": "qjSllGA1UxZp",
        "outputId": "9ba7e64c-7968-4979-fbd0-85d41aab1bda"
      },
      "outputs": [
        {
          "name": "stdout",
          "output_type": "stream",
          "text": [
            "CustomCNNv2(\n",
            "  (conv1): Conv2d(3, 32, kernel_size=(3, 3), stride=(1, 1), padding=(1, 1))\n",
            "  (bn1): BatchNorm2d(32, eps=1e-05, momentum=0.1, affine=True, track_running_stats=True)\n",
            "  (conv2): Conv2d(32, 32, kernel_size=(3, 3), stride=(1, 1), padding=(1, 1))\n",
            "  (bn2): BatchNorm2d(32, eps=1e-05, momentum=0.1, affine=True, track_running_stats=True)\n",
            "  (pool1): MaxPool2d(kernel_size=2, stride=2, padding=0, dilation=1, ceil_mode=False)\n",
            "  (drop1): Dropout(p=0.25, inplace=False)\n",
            "  (conv3): Conv2d(32, 64, kernel_size=(3, 3), stride=(1, 1), padding=(1, 1))\n",
            "  (bn3): BatchNorm2d(64, eps=1e-05, momentum=0.1, affine=True, track_running_stats=True)\n",
            "  (conv4): Conv2d(64, 64, kernel_size=(3, 3), stride=(1, 1), padding=(1, 1))\n",
            "  (bn4): BatchNorm2d(64, eps=1e-05, momentum=0.1, affine=True, track_running_stats=True)\n",
            "  (pool2): MaxPool2d(kernel_size=2, stride=2, padding=0, dilation=1, ceil_mode=False)\n",
            "  (drop2): Dropout(p=0.25, inplace=False)\n",
            "  (fc1): Linear(in_features=4096, out_features=512, bias=True)\n",
            "  (bn_fc): BatchNorm1d(512, eps=1e-05, momentum=0.1, affine=True, track_running_stats=True)\n",
            "  (drop_fc): Dropout(p=0.5, inplace=False)\n",
            "  (fc2): Linear(in_features=512, out_features=10, bias=True)\n",
            ")\n"
          ]
        }
      ],
      "source": [
        "class CustomCNNv2(nn.Module):\n",
        "    def __init__(self):\n",
        "        super(CustomCNNv2, self).__init__()\n",
        "        self.conv1 = nn.Conv2d(3, 32, kernel_size=3, padding=1)\n",
        "        self.bn1   = nn.BatchNorm2d(32)\n",
        "        self.conv2 = nn.Conv2d(32, 32, kernel_size=3, padding=1)\n",
        "        self.bn2   = nn.BatchNorm2d(32)\n",
        "        self.pool1 = nn.MaxPool2d(2, 2)\n",
        "        self.drop1 = nn.Dropout(0.25)\n",
        "\n",
        "        self.conv3 = nn.Conv2d(32, 64, kernel_size=3, padding=1)\n",
        "        self.bn3   = nn.BatchNorm2d(64)\n",
        "        self.conv4 = nn.Conv2d(64, 64, kernel_size=3, padding=1)\n",
        "        self.bn4   = nn.BatchNorm2d(64)\n",
        "        self.pool2 = nn.MaxPool2d(2, 2)\n",
        "        self.drop2 = nn.Dropout(0.25)\n",
        "\n",
        "        self.fc1   = nn.Linear(64 * 8 * 8, 512)\n",
        "        self.bn_fc = nn.BatchNorm1d(512)\n",
        "        self.drop_fc = nn.Dropout(0.5)\n",
        "        self.fc2   = nn.Linear(512, 10)\n",
        "\n",
        "    def forward(self, x):\n",
        "        x = F.relu(self.bn1(self.conv1(x)))\n",
        "        x = F.relu(self.bn2(self.conv2(x)))\n",
        "        x = self.pool1(x)\n",
        "        x = self.drop1(x)\n",
        "\n",
        "        x = F.relu(self.bn3(self.conv3(x)))\n",
        "        x = F.relu(self.bn4(self.conv4(x)))\n",
        "        x = self.pool2(x)\n",
        "        x = self.drop2(x)\n",
        "\n",
        "        x = torch.flatten(x, 1)\n",
        "\n",
        "        x = F.relu(self.bn_fc(self.fc1(x)))\n",
        "        x = self.drop_fc(x)\n",
        "        x = self.fc2(x)\n",
        "        return x\n",
        "\n",
        "model_v3 = CustomCNNv2()\n",
        "\n",
        "model_v3.cuda()\n",
        "\n",
        "print(model_v3)\n"
      ]
    },
    {
      "cell_type": "code",
      "execution_count": 169,
      "metadata": {
        "id": "_Ta2Iw4NWOSq"
      },
      "outputs": [],
      "source": [
        "criterion = nn.CrossEntropyLoss()\n",
        "optimizer = optim.Adam(model_v3.parameters(), lr=0.001, betas=(0.9, 0.999), eps=1e-08, weight_decay=1e-4)"
      ]
    },
    {
      "cell_type": "code",
      "execution_count": 170,
      "metadata": {
        "colab": {
          "base_uri": "https://localhost:8080/"
        },
        "id": "JpnJJn46W8GI",
        "outputId": "26ec3d58-4ff5-486e-bb4a-f7073d805698"
      },
      "outputs": [
        {
          "name": "stdout",
          "output_type": "stream",
          "text": [
            "Epoch 1/10 - Train Loss: 1.4835, Train Acc: 46.36% | Val Loss: 1.0466, Test Acc: 62.15%, Prec: 0.63, Rec: 0.62, F1: 0.62\n",
            "Epoch 2/10 - Train Loss: 1.1658, Train Acc: 58.64% | Val Loss: 0.8442, Test Acc: 69.01%, Prec: 0.71, Rec: 0.69, F1: 0.69\n",
            "Epoch 3/10 - Train Loss: 1.0608, Train Acc: 62.38% | Val Loss: 0.7374, Test Acc: 73.24%, Prec: 0.73, Rec: 0.73, F1: 0.73\n",
            "Epoch 4/10 - Train Loss: 0.9992, Train Acc: 64.84% | Val Loss: 0.6971, Test Acc: 75.30%, Prec: 0.75, Rec: 0.75, F1: 0.75\n",
            "Epoch 5/10 - Train Loss: 0.9551, Train Acc: 66.67% | Val Loss: 0.6530, Test Acc: 76.91%, Prec: 0.77, Rec: 0.77, F1: 0.77\n",
            "Epoch 6/10 - Train Loss: 0.9154, Train Acc: 68.11% | Val Loss: 0.6216, Test Acc: 78.23%, Prec: 0.78, Rec: 0.78, F1: 0.78\n",
            "Epoch 7/10 - Train Loss: 0.8873, Train Acc: 69.06% | Val Loss: 0.5994, Test Acc: 79.08%, Prec: 0.79, Rec: 0.79, F1: 0.79\n",
            "Epoch 8/10 - Train Loss: 0.8664, Train Acc: 69.67% | Val Loss: 0.5806, Test Acc: 79.56%, Prec: 0.79, Rec: 0.79, F1: 0.79\n",
            "Epoch 9/10 - Train Loss: 0.8465, Train Acc: 70.47% | Val Loss: 0.6018, Test Acc: 78.78%, Prec: 0.80, Rec: 0.79, F1: 0.79\n",
            "Epoch 10/10 - Train Loss: 0.8270, Train Acc: 71.02% | Val Loss: 0.5409, Test Acc: 80.79%, Prec: 0.81, Rec: 0.81, F1: 0.81\n"
          ]
        }
      ],
      "source": [
        "history = {\n",
        "    'epoch': [],\n",
        "    'train_loss': [],\n",
        "    'val_loss': [],\n",
        "    'train_accuracy': [],\n",
        "    'val_accuracy': [],\n",
        "}\n",
        "num_epochs = 10\n",
        "\n",
        "for epoch in range(num_epochs):\n",
        "    model_v3.train()\n",
        "    running_loss = 0.0\n",
        "    train_labels = []\n",
        "    train_preds = []\n",
        "\n",
        "    for i, data in enumerate(train_loader, 0):\n",
        "        inputs, labels = data\n",
        "\n",
        "        inputs = inputs.to(device)\n",
        "        labels = labels.to(device)\n",
        "\n",
        "        optimizer.zero_grad()\n",
        "\n",
        "        outputs = model_v3(inputs)\n",
        "        loss = criterion(outputs, labels)\n",
        "        loss.backward()\n",
        "        optimizer.step()\n",
        "\n",
        "        running_loss += loss.item()\n",
        "\n",
        "        _, predicted = torch.max(outputs.data, 1)\n",
        "\n",
        "        train_labels.extend(labels.cpu().numpy())\n",
        "        train_preds.extend(predicted.cpu().numpy())\n",
        "\n",
        "    train_loss = running_loss / len(train_loader)\n",
        "    train_accuracy = accuracy_score(train_labels, train_preds) * 100\n",
        "\n",
        "    model_v3.eval()\n",
        "    val_loss = 0.0\n",
        "    all_labels = []\n",
        "    all_preds = []\n",
        "\n",
        "    with torch.no_grad():\n",
        "        for inputs, labels in validation_loader:\n",
        "            inputs = inputs.to(device)\n",
        "            labels = labels.to(device)\n",
        "\n",
        "            outputs = model_v3(inputs)\n",
        "            loss = criterion(outputs, labels)\n",
        "            val_loss += loss.item()\n",
        "\n",
        "            _, predicted = torch.max(outputs.data, 1)\n",
        "\n",
        "            all_labels.extend(labels.cpu().numpy())\n",
        "            all_preds.extend(predicted.cpu().numpy())\n",
        "\n",
        "    val_loss = val_loss / len(test_loader)\n",
        "\n",
        "    val_accuracy = accuracy_score(all_labels, all_preds) * 100\n",
        "    prec = precision_score(all_labels, all_preds, average='macro')\n",
        "    rec = recall_score(all_labels, all_preds, average='macro')\n",
        "    f1 = f1_score(all_labels, all_preds, average='macro')\n",
        "\n",
        "    history['epoch'].append(epoch)\n",
        "    history['train_loss'].append(train_loss)\n",
        "    history['val_loss'].append(val_loss)\n",
        "    history['train_accuracy'].append(train_accuracy)\n",
        "    history['val_accuracy'].append(val_accuracy)\n",
        "\n",
        "    print(f\"Epoch {epoch+1}/{num_epochs} - \"\n",
        "          f\"Train Loss: {train_loss:.4f}, Train Acc: {train_accuracy:.2f}% | \"\n",
        "          f\"Val Loss: {val_loss:.4f}, Test Acc: {val_accuracy:.2f}%, \"\n",
        "          f\"Prec: {prec:.2f}, Rec: {rec:.2f}, F1: {f1:.2f}\")"
      ]
    },
    {
      "cell_type": "markdown",
      "metadata": {
        "id": "72ICcmrtXFk6"
      },
      "source": [
        "Зміна в архітектурі дозволила ловити більше ознак що призвело до кращої точності"
      ]
    },
    {
      "cell_type": "code",
      "execution_count": null,
      "metadata": {
        "id": "gSu6DrUVb_UL"
      },
      "outputs": [],
      "source": []
    }
  ],
  "metadata": {
    "accelerator": "GPU",
    "colab": {
      "gpuType": "T4",
      "machine_shape": "hm",
      "provenance": [],
      "toc_visible": true
    },
    "kernelspec": {
      "display_name": "Python 3",
      "name": "python3"
    },
    "language_info": {
      "codemirror_mode": {
        "name": "ipython",
        "version": 3
      },
      "file_extension": ".py",
      "mimetype": "text/x-python",
      "name": "python",
      "nbconvert_exporter": "python",
      "pygments_lexer": "ipython3",
      "version": "3.12.7"
    }
  },
  "nbformat": 4,
  "nbformat_minor": 0
}
