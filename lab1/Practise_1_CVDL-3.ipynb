{
  "cells": [
    {
      "cell_type": "markdown",
      "metadata": {
        "id": "FHO16qjxAbdg"
      },
      "source": [
        "# Лабораторна робота №1\n",
        "## Класифікація зображень за допомогою PyTorch\n",
        "\n",
        "**Мета роботи: Навчитись тренувати базову нейронну мережу для класифікації зображень.**\n",
        "\n",
        "**Вимоги:**\n",
        "\n",
        "1.   Встановлені Python та бібліотеки PyTorch, torchvision, matplotlib.\n",
        "2.   Завантажений набір даних CIFAR-10."
      ]
    },
    {
      "cell_type": "markdown",
      "metadata": {
        "id": "dHpzXBOvAgc9"
      },
      "source": [
        "## Завдання до лабораторної роботи (частина І): Робота з даними (CIFAR-10)\n",
        "\n",
        "1.   Імпортуйте необхідні бібліотеки:"
      ]
    },
    {
      "cell_type": "code",
      "execution_count": 2,
      "metadata": {},
      "outputs": [],
      "source": [
        "import matplotlib.pyplot as plt\n",
        "import numpy as np\n",
        "import torch\n",
        "import torchvision\n",
        "import torchvision.transforms as transforms\n",
        "import torch.nn as nn\n",
        "import torch.nn.functional as F\n",
        "from sklearn.metrics import accuracy_score, f1_score, precision_score, recall_score\n",
        "from torch.utils.data import DataLoader, random_split\n",
        "from torchvision.utils import make_grid"
      ]
    },
    {
      "cell_type": "markdown",
      "metadata": {},
      "source": [
        "2.   Завантаження даних. Напишіть функцію, яка завантажує набір даних CIFAR-10.\n",
        "3.   Перевірка наявності даних. Напишіть код, який перевіряє, чи дані завантажені та розпаковані успішно. Виведіть повідомлення про статус завантаження.\n",
        "4.   Підготовка даних. Напишіть код, щоб імплементувати трансформації для зображень:\n",
        "*    перетворення в тензори;\n",
        "*    денормалізація (при необхідності).  "
      ]
    },
    {
      "cell_type": "code",
      "execution_count": 4,
      "metadata": {},
      "outputs": [],
      "source": [
        "transform_train_data = transforms.Compose([\n",
        "    transforms.ToTensor(),\n",
        "    transforms.Normalize((0.5, 0.5, 0.5), (0.5, 0.5, 0.5))\n",
        "])\n",
        "\n",
        "transform_test_data = transforms.Compose([\n",
        "    transforms.ToTensor(),\n",
        "    transforms.Normalize((0.5, 0.5, 0.5), (0.5, 0.5, 0.5))\n",
        "])"
      ]
    },
    {
      "cell_type": "code",
      "execution_count": 5,
      "metadata": {},
      "outputs": [],
      "source": [
        "data_train = torchvision.datasets.CIFAR10(root='data/raw', train=True, transform=transform_train_data, download=True)\n",
        "data_test = torchvision.datasets.CIFAR10(root='data/raw', train=False, transform=transform_test_data, download=True)"
      ]
    },
    {
      "cell_type": "code",
      "execution_count": 6,
      "metadata": {},
      "outputs": [
        {
          "name": "stdout",
          "output_type": "stream",
          "text": [
            "Amount of pictures in train: 50000\n",
            "Amount of pictures in test: 10000\n"
          ]
        }
      ],
      "source": [
        "print(f\"Amount of pictures in train: {len(data_train)}\")\n",
        "print(f\"Amount of pictures in test: {len(data_test)}\")"
      ]
    },
    {
      "cell_type": "markdown",
      "metadata": {},
      "source": [
        "Використайте `torchvision.transforms` для підготовки даних.\n",
        "\n",
        "5.   Створення DataLoader. Створіть DataLoader для навчального та тестового наборів даних, щоб спростити процес завантаження даних за батчами.\n",
        "6.   Візуалізація прикладів:\n",
        "*   напишіть функцію для візуалізації деяких зображень з набору даних;\n",
        "*   відобразіть кілька зображень з їхніми реальними мітками."
      ]
    },
    {
      "cell_type": "code",
      "execution_count": 7,
      "metadata": {},
      "outputs": [],
      "source": [
        "train_loader = DataLoader(data_train, batch_size=64, shuffle=True, num_workers=2)\n",
        "test_loader = DataLoader(data_test, batch_size=64, shuffle=False, num_workers=2)"
      ]
    },
    {
      "cell_type": "code",
      "execution_count": 8,
      "metadata": {},
      "outputs": [
        {
          "name": "stdout",
          "output_type": "stream",
          "text": [
            "Feature batch shape: torch.Size([64, 3, 32, 32])\n",
            "Labels batch shape: torch.Size([64])\n"
          ]
        }
      ],
      "source": [
        "train_images, train_labels = next(iter(train_loader))\n",
        "print(f\"Feature batch shape: {train_images.size()}\")\n",
        "print(f\"Labels batch shape: {train_labels.size()}\")\n",
        "\n",
        "random_images_indices = np.random.choice(len(train_images), 5, replace=False)"
      ]
    },
    {
      "cell_type": "code",
      "execution_count": 9,
      "metadata": {},
      "outputs": [
        {
          "name": "stderr",
          "output_type": "stream",
          "text": [
            "Clipping input data to the valid range for imshow with RGB data ([0..1] for floats or [0..255] for integers). Got range [-1.0..0.7019608].\n",
            "Clipping input data to the valid range for imshow with RGB data ([0..1] for floats or [0..255] for integers). Got range [-0.85882354..0.78039217].\n",
            "Clipping input data to the valid range for imshow with RGB data ([0..1] for floats or [0..255] for integers). Got range [-0.7647059..0.9529412].\n",
            "Clipping input data to the valid range for imshow with RGB data ([0..1] for floats or [0..255] for integers). Got range [-0.99215686..1.0].\n",
            "Clipping input data to the valid range for imshow with RGB data ([0..1] for floats or [0..255] for integers). Got range [-0.92941177..0.9137255].\n"
          ]
        },
        {
          "data": {
            "image/png": "[encoded data removed]",
            "text/plain": [
              "<Figure size 1500x500 with 5 Axes>"
            ]
          },
          "metadata": {},
          "output_type": "display_data"
        }
      ],
      "source": [
        "plt.figure(figsize=(15, 5))\n",
        "\n",
        "for i, idx in enumerate(random_images_indices):\n",
        "    image = train_images[idx]\n",
        "    label = train_labels[idx]\n",
        "    \n",
        "    image = image.numpy()\n",
        "    \n",
        "    if image.ndim == 3 and image.shape[0] in [1, 3]:\n",
        "        image = np.transpose(image, (1, 2, 0))\n",
        "        if image.shape[2] == 1:\n",
        "            image = image.squeeze(axis=2)\n",
        "    \n",
        "    ax = plt.subplot(1, 5, i + 1)\n",
        "    plt.imshow(image, cmap='gray' if image.ndim == 2 else None)\n",
        "    plt.title(f\"Мітка: {label}\")\n",
        "    plt.axis('off')\n",
        "\n",
        "plt.tight_layout()\n",
        "plt.show()"
      ]
    },
    {
      "cell_type": "markdown",
      "metadata": {},
      "source": [
        "7.   Ваші висновки до частини І."
      ]
    },
    {
      "cell_type": "markdown",
      "metadata": {},
      "source": [
        "### Висновки до частини I\n",
        "\n",
        "Було імлплементовано трансформації з перетворенням зоображень на тензори та нормалізації, потім за допомогою пакетів pytorch було викачано датасет CIRAF10. Також було створено Dataloader класи для контролю над батачами які потім будуть використовуватися для тренування. Поки число батчів було обране мною з голови, але пізніше з використання крос валідації буде обране найкраще, що буде задовільняти трейд-офф якості та обчислювальних ресурсів. Так само з Data Augmentation."
      ]
    },
    {
      "cell_type": "markdown",
      "metadata": {},
      "source": [
        "## Завдання до лабораторної роботи (частина ІІ):\n",
        "0. Розділіть набір даних на навчальний і тестовий.\n",
        "1. Визначення структури CNN.\n",
        "    - Створіть клас для цільної нейронної мережі, яка буде містити мінімум два повнозв'язних шари.\n",
        "2. Вибір функції втрати та оптимізатора:\n",
        "    - визначте функцію втрат (наприклад, CrossEntropyLoss) та оптимізатор (наприклад, SGD або Adam).\n",
        "3. Тренування моделі.\n",
        "    - Реалізуйте цикл навчання, де:\n",
        "        - модель тренується на навчальному наборі даних;\n",
        "        - виводиться значення функції втрат та точність (на навчальній та валідаційній множинах) після кожної епохи.\n",
        "4. Оцінка моделі:\n",
        "    - визначте точність моделі на тестовому наборі даних;\n",
        "    - виведіть детальні статистики (загальна точність та точність для кожного класу).\n",
        "5. Візуалізація результатів:\n",
        "    - візуалізуйте кілька випадкових передбачених зображень разом з їхніми реальними мітками та передбаченнями;\n",
        "    - побудуйте графік точності та втрат для навчального набору даних на кожній епосі."
      ]
    },
    {
      "cell_type": "markdown",
      "metadata": {
        "id": "cwHLlRq1Br1l"
      },
      "source": [
        "## Додаткові завдання (за бажанням):\n",
        "\n",
        "- Напишіть код, який виведе кількість зображень у кожному класі в директорії train. Для цього ви можете використовувати os.listdir() для підрахунку зображень у відповідних піддиректоріях.\n",
        "- Створіть графік (наприклад, гістограму), який відображає кількість зображень в кожному класі. Ви можете використовувати бібліотеку matplotlib для візуалізації.\n",
        "- Виведіть кілька випадкових зображень з кожного класу разом із їхніми мітками.\n",
        "- Дослідіть, як зміна параметрів підготовки даних (наприклад, різні трансформації) впливає на результати моделі.\n",
        "- Спробуйте змінити архітектуру моделі (додати додаткові шари) та проаналізуйте, як це впливає на результати.\n",
        "- Включіть регуляризацію (наприклад, Dropout) для покращення загальної точності.\n"
      ]
    },
    {
      "cell_type": "code",
      "execution_count": null,
      "metadata": {
        "id": "4fAOG0CE_xYl"
      },
      "outputs": [],
      "source": []
    },
    {
      "cell_type": "code",
      "execution_count": null,
      "metadata": {},
      "outputs": [],
      "source": []
    }
  ],
  "metadata": {
    "colab": {
      "provenance": []
    },
    "kernelspec": {
      "display_name": "venv",
      "language": "python",
      "name": "python3"
    },
    "language_info": {
      "codemirror_mode": {
        "name": "ipython",
        "version": 3
      },
      "file_extension": ".py",
      "mimetype": "text/x-python",
      "name": "python",
      "nbconvert_exporter": "python",
      "pygments_lexer": "ipython3",
      "version": "3.12.7"
    }
  },
  "nbformat": 4,
  "nbformat_minor": 0
}
